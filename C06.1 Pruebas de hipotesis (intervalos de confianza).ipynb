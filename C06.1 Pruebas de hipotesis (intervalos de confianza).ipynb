{
 "cells": [
  {
   "cell_type": "markdown",
   "metadata": {},
   "source": [
    "# Intervalos de confianza\n",
    "\n",
    "Un **parámetro poblacional** es una característica que deseamos conocer en una población. Usualmente ese parámetro poblacional es desconocido y, a través de ciertas técnicas estadísticas, lo estimamos mediante una muestra. \n",
    "\n",
    "Frecuentemente los parámetros poblacionales que nos interesa medir es el valor promedio de una característica en una población; o la proporcición en la que la característica se presenta, o la desviación poblacional de cierta característica.\n",
    "\n",
    "De esta manera, si $\\theta$ es un parámetro poblacional, entonces $\\theta$ puede ser, por ejemplo, el promedio del número de delitos que sufrieron las víctimas de delito en México durante 2022, la proporción de mujeres estudiantes de ciencias que ejercerán sus carreras o el tiempo promedio de recuperación de un enfermo cuando recibe un tratamiento médico\n",
    "\n",
    "Una estimación por intervalos de confianza de un parámetro poblacional es una regla para calcular, a partir de nuestra muestra, un intervalo en el que, con una cierta probabilidad, se encuentra el valor verdadero del parámetro poblacional."
   ]
  },
  {
   "cell_type": "markdown",
   "metadata": {},
   "source": [
    "Así, si $\\theta$ es un parámetro poblacional, se dice que el intervalo $(A,B)$ es un **intervalo de confianza para $\\theta$** con nivel de significancia $\\alpha$ si $P(A<\\theta<B)=1-\\alpha$\n",
    "\n",
    "<img src=\"im013.png\">"
   ]
  },
  {
   "cell_type": "markdown",
   "metadata": {},
   "source": [
    "Al nivel de significancia $\\alpha$ se le asocia el número $1-\\alpha$, y se dice que el intervalo tiene una confianza del $(1-\\alpha)*100$ *por ciento*. En la práctica se toma $\\alpha$ como $0.01$, $0.05$ y $0.1$, por lo cual tenemos intervalos de confianza del 99%, 95% y 90%, respectivamente."
   ]
  },
  {
   "cell_type": "markdown",
   "metadata": {},
   "source": [
    "## Interpretación \n",
    "\n",
    "La interpretación de los intervalos de confianza puede resumirse de la siguiente manera: *Supongamos que nos interesa estimar el parámetro poblacional $\\theta$ de una población. Si tomamos muestras y muestras de una población y se calcula el valor del parámetro en cada una de las muestras, entonces el intervalo de confianza con significancia $\\alpha$ que construyas en cada muestra contendrá al valor verdadero del parámetro muestral un $1-\\alpha$ por ciento de las veces*.\n",
    "\n",
    "\n",
    "si quieres mucha confianza el intervalo debe ser grande \n",
    "\n",
    "# SUMAMENTE IMPORTANTE PARA ENTENDER LA INTERPRETACION\n",
    "\n",
    "Imagina que repetimos el experimento muchas veces (idealmente infinitas veces) y tomamos distintas muestras de la población. Cada muestra será un poco diferente porque cada vez estaremos observando diferentes datos.\n",
    "\n",
    "Para cada muestra, calculamos un intervalo de confianza basándonos en esos datos.\n",
    "Lo que esta interpretación dice es que, si repitiéramos este proceso de tomar muestras y calcular intervalos muchas veces, el 95% de los intervalos (para un nivel de confianza del 95%) contendrán al verdadero parámetro poblacional.\n",
    "\n",
    "\n",
    "## Importante: selección de muestras en Python\n",
    "\n",
    "```python\n",
    "\n",
    "tabla = pd.DataFrame(data)\n",
    "\n",
    "# Definir el tamaño de la muestra\n",
    "n = 3\n",
    "(\n",
    "# Tomar una muestra aleatoria; random_state es para establecer reproductibilidad (QUE TRAIGA LAS MISMAS MUESTRAS)\n",
    "muestra = tabla.sample(n=n, random_state=42) \n",
    "```"
   ]
  },
  {
   "cell_type": "markdown",
   "metadata": {},
   "source": [
    "## Intervalo de confianza para la media poblacional con varianza conocida (<span style=\"color: red;\">población normal</span>)\n",
    "\n",
    "Supongamos que queremos medir el valor promedio de la característica $X$ de cierta población, donde $X$ es **una gaussiana con media $\\mu$ desconocida pero varianza poblacional $\\sigma$ conocida.** Es decir, queremos hallar $\\mu$.\n",
    "\n",
    "Tomemos una muestra de tamaño $n$. Sean $X_1$, $X_2$,...,$X_n$ los valores de la característica $X$ en esa muestra. Un intervalo de confianza con significancia $\\alpha$ para la media $\\mu$, conociendo la desviación poblacional $\\sigma$, es $$\\left(\\overline{X_n}-Z_{1-\\frac{\\alpha}{2}}\\frac{\\sigma}{\\sqrt{n}},\\overline{X_n}+Z_{1-\\frac{\\alpha}{2}}\\frac{\\sigma}{\\sqrt{n}}\\right),$$\n",
    "\n",
    "donde $Z_{1-\\frac{\\alpha}{2}}$ tiene los siguientes valores:\n",
    "\n",
    "$\\alpha$|1-$\\alpha$|$Z_{1-\\alpha/2}$\n",
    "--|--|--\n",
    "0.1|0.90|1.645\n",
    "0.05|0.95|1.96\n",
    "0.01|0.99|2.575"
   ]
  },
  {
   "cell_type": "markdown",
   "metadata": {},
   "source": [
    "Como has podido ver, el cálculo del intervalo de confianza puede ser algo tedioso:\n",
    "\n",
    "```python\n",
    "import numpy as np\n",
    "from scipy.stats import norm\n",
    "\n",
    "# Parámetros\n",
    "media_muestral = 50  # media muestral\n",
    "sigma = 10           # desviación estándar de la población\n",
    "n = 30               # tamaño de la muestra\n",
    "alpha = 0.05         # nivel de significancia para el 95% de confianza\n",
    "\n",
    "# Cálculo del valor crítico Z\n",
    "Z = norm.ppf(1 - alpha / 2)\n",
    "\n",
    "# Cálculo del margen de error\n",
    "margen_error = Z * (sigma / np.sqrt(n))\n",
    "\n",
    "# Cálculo del intervalo de confianza\n",
    "IC_inferior = media_muestral - margen_error\n",
    "IC_superior = media_muestral + margen_error\n",
    "\n",
    "# Mostrar los resultados\n",
    "print(f\"Intervalo de confianza para la media: ({IC_inferior:.2f}, {IC_superior:.2f})\")\n",
    "```"
   ]
  },
  {
   "cell_type": "markdown",
   "metadata": {},
   "source": [
    "**Sustento teórico.**\n",
    "\n",
    "El sustento teorico del por qué el intervalo de confianza tiene la forma que se mostró en el caso de población gaussiana con desviación conocida y media desconocida es el siguiente resultado que vimos en la sección de variables aleatorias gaussianas:\n",
    "\n",
    "Si $X_1,X_2,...,X_n$ son gaussianas independientes, todas con media $\\mu$ y desviación $\\sigma$, y $\\overline{X}=(X_1+X_2+...+X_n)/n$, entonces $$\\frac{\\overline{X}-\\mu}{\\sigma/\\sqrt{n}}\\sim N(0,1)$$"
   ]
  },
  {
   "cell_type": "markdown",
   "metadata": {},
   "source": [
    "**Problema 1 (simulación).**\n",
    "\n",
    "La tabla [tabla_poblacion_simulada.csv](https://github.com/scidatmath2020/Inferencia_Estadistica_2024/blob/main/data/tabla_poblacion_simulada.csv) es un dataframe de dos columnas, ambas de una característica de tipo gaussiana tomadas de una población de tamaño 10,000 y de las cuales desconocemos el valor de la media de la población. \n",
    "\n",
    "En el caso de la desviación estándar de la columna *sd_4*, el valor es 4.\n",
    "\n",
    "1. Toma una muestra de tamaño 25 y calcula el intervalo de confianza al 95% de la media poblacional.\n",
    "\n",
    "2. El valor verdadero de la media poblacional es 20. Toma 1000 muestras de tamaño 25; construye el intervalo de confianza al 99% para cada una de esas muestras y verifica que aproximadamente en el 99% de los casos la media poblacional se encuentra en el intervalo de confianza."
   ]
  },
  {
   "cell_type": "code",
   "execution_count": 1,
   "metadata": {},
   "outputs": [],
   "source": [
    "import pandas as pd\n",
    "import numpy as np\n",
    "from plotnine import *\n",
    "import matplotlib.pyplot as plt\n",
    "from scipy.stats import norm"
   ]
  },
  {
   "cell_type": "code",
   "execution_count": 2,
   "metadata": {},
   "outputs": [
    {
     "name": "stderr",
     "output_type": "stream",
     "text": [
      "<>:1: SyntaxWarning: invalid escape sequence '\\D'\n",
      "<>:1: SyntaxWarning: invalid escape sequence '\\D'\n",
      "C:\\Users\\VING0AK\\AppData\\Local\\Temp\\ipykernel_15980\\2048793256.py:1: SyntaxWarning: invalid escape sequence '\\D'\n"
     ]
    },
    {
     "data": {
      "text/html": [
       "<div>\n",
       "<style scoped>\n",
       "    .dataframe tbody tr th:only-of-type {\n",
       "        vertical-align: middle;\n",
       "    }\n",
       "\n",
       "    .dataframe tbody tr th {\n",
       "        vertical-align: top;\n",
       "    }\n",
       "\n",
       "    .dataframe thead th {\n",
       "        text-align: right;\n",
       "    }\n",
       "</style>\n",
       "<table border=\"1\" class=\"dataframe\">\n",
       "  <thead>\n",
       "    <tr style=\"text-align: right;\">\n",
       "      <th></th>\n",
       "      <th>Unnamed: 0</th>\n",
       "      <th>sd_4</th>\n",
       "      <th>sd_desconocido</th>\n",
       "    </tr>\n",
       "  </thead>\n",
       "  <tbody>\n",
       "    <tr>\n",
       "      <th>0</th>\n",
       "      <td>1</td>\n",
       "      <td>21.483702</td>\n",
       "      <td>32.176926</td>\n",
       "    </tr>\n",
       "    <tr>\n",
       "      <th>1</th>\n",
       "      <td>2</td>\n",
       "      <td>15.757847</td>\n",
       "      <td>30.108064</td>\n",
       "    </tr>\n",
       "    <tr>\n",
       "      <th>2</th>\n",
       "      <td>3</td>\n",
       "      <td>18.790874</td>\n",
       "      <td>30.896517</td>\n",
       "    </tr>\n",
       "    <tr>\n",
       "      <th>3</th>\n",
       "      <td>4</td>\n",
       "      <td>23.801582</td>\n",
       "      <td>15.849980</td>\n",
       "    </tr>\n",
       "    <tr>\n",
       "      <th>4</th>\n",
       "      <td>5</td>\n",
       "      <td>25.260813</td>\n",
       "      <td>38.318724</td>\n",
       "    </tr>\n",
       "  </tbody>\n",
       "</table>\n",
       "</div>"
      ],
      "text/plain": [
       "   Unnamed: 0       sd_4  sd_desconocido\n",
       "0           1  21.483702       32.176926\n",
       "1           2  15.757847       30.108064\n",
       "2           3  18.790874       30.896517\n",
       "3           4  23.801582       15.849980\n",
       "4           5  25.260813       38.318724"
      ]
     },
     "execution_count": 2,
     "metadata": {},
     "output_type": "execute_result"
    }
   ],
   "source": [
    "tabla=pd.read_csv(\"C:\\\\Users\\\\VING0AK\\Desktop\\\\AnalisisDeDatos\\\\Estadistica\\\\tabla_poblacion_simulada.csv\")\n",
    "tabla.head()"
   ]
  },
  {
   "cell_type": "code",
   "execution_count": 3,
   "metadata": {},
   "outputs": [
    {
     "data": {
      "text/html": [
       "<div>\n",
       "<style scoped>\n",
       "    .dataframe tbody tr th:only-of-type {\n",
       "        vertical-align: middle;\n",
       "    }\n",
       "\n",
       "    .dataframe tbody tr th {\n",
       "        vertical-align: top;\n",
       "    }\n",
       "\n",
       "    .dataframe thead th {\n",
       "        text-align: right;\n",
       "    }\n",
       "</style>\n",
       "<table border=\"1\" class=\"dataframe\">\n",
       "  <thead>\n",
       "    <tr style=\"text-align: right;\">\n",
       "      <th></th>\n",
       "      <th>Unnamed: 0</th>\n",
       "      <th>sd_4</th>\n",
       "      <th>sd_desconocido</th>\n",
       "    </tr>\n",
       "  </thead>\n",
       "  <tbody>\n",
       "    <tr>\n",
       "      <th>8374</th>\n",
       "      <td>8375</td>\n",
       "      <td>29.938531</td>\n",
       "      <td>33.246307</td>\n",
       "    </tr>\n",
       "    <tr>\n",
       "      <th>6935</th>\n",
       "      <td>6936</td>\n",
       "      <td>20.133938</td>\n",
       "      <td>33.831967</td>\n",
       "    </tr>\n",
       "    <tr>\n",
       "      <th>5103</th>\n",
       "      <td>5104</td>\n",
       "      <td>18.271207</td>\n",
       "      <td>39.257117</td>\n",
       "    </tr>\n",
       "    <tr>\n",
       "      <th>8963</th>\n",
       "      <td>8964</td>\n",
       "      <td>15.951384</td>\n",
       "      <td>31.579372</td>\n",
       "    </tr>\n",
       "    <tr>\n",
       "      <th>4993</th>\n",
       "      <td>4994</td>\n",
       "      <td>25.044611</td>\n",
       "      <td>36.058013</td>\n",
       "    </tr>\n",
       "  </tbody>\n",
       "</table>\n",
       "</div>"
      ],
      "text/plain": [
       "      Unnamed: 0       sd_4  sd_desconocido\n",
       "8374        8375  29.938531       33.246307\n",
       "6935        6936  20.133938       33.831967\n",
       "5103        5104  18.271207       39.257117\n",
       "8963        8964  15.951384       31.579372\n",
       "4993        4994  25.044611       36.058013"
      ]
     },
     "execution_count": 3,
     "metadata": {},
     "output_type": "execute_result"
    }
   ],
   "source": [
    "#definir tamanio y seleccionar muestra\n",
    "n=25\n",
    "# Tomar una muestra aleatoria; random_state es para establecer reproductibilidad (QUE TRAIGA LAS MISMAS MUESTRAS)\n",
    "muestra = tabla.sample(n=n, random_state=2024) \n",
    "\n",
    "muestra.head()"
   ]
  },
  {
   "cell_type": "code",
   "execution_count": 4,
   "metadata": {},
   "outputs": [
    {
     "data": {
      "text/plain": [
       "20.83586906496635"
      ]
     },
     "execution_count": 4,
     "metadata": {},
     "output_type": "execute_result"
    }
   ],
   "source": [
    "media_muestral=muestra[\"sd_4\"].mean()\n",
    "media_muestral"
   ]
  },
  {
   "cell_type": "code",
   "execution_count": 5,
   "metadata": {},
   "outputs": [
    {
     "name": "stdout",
     "output_type": "stream",
     "text": [
      "Intervalo de confianza para la media: (19.27, 22.40)\n"
     ]
    }
   ],
   "source": [
    "sigma=4\n",
    "alpha=0.05\n",
    "\n",
    "# Cálculo del valor crítico Z\n",
    "Z = norm.ppf(1 - alpha / 2)\n",
    "\n",
    "# Cálculo del margen de error\n",
    "margen_error = Z * (sigma / np.sqrt(n))\n",
    "\n",
    "# Cálculo del intervalo de confianza\n",
    "IC_inferior = media_muestral - margen_error\n",
    "IC_superior = media_muestral + margen_error\n",
    "\n",
    "# Mostrar los resultados\n",
    "print(f\"Intervalo de confianza para la media: ({IC_inferior:.2f}, {IC_superior:.2f})\")"
   ]
  },
  {
   "cell_type": "code",
   "execution_count": 6,
   "metadata": {},
   "outputs": [],
   "source": [
    "#INTERPRETACION \n",
    "# EJERCICIO 1.2\n",
    "def selecciones():\n",
    "    n=25\n",
    "    sigma=4\n",
    "    alpha=0.01\n",
    "    \n",
    "    muestra = tabla.sample(n=n) \n",
    "    media_muestral=muestra[\"sd_4\"].mean()\n",
    "\n",
    "    # Cálculo del valor crítico Z\n",
    "    Z = norm.ppf(1 - alpha / 2)\n",
    "\n",
    "    # Cálculo del margen de error\n",
    "    margen_error = Z * (sigma / np.sqrt(n))\n",
    "\n",
    "    # Cálculo del intervalo de confianza\n",
    "    IC_inferior = media_muestral - margen_error\n",
    "    IC_superior = media_muestral + margen_error\n",
    "    \n",
    "    return(IC_inferior,IC_superior)\n",
    "\n",
    "\n",
    " "
   ]
  },
  {
   "cell_type": "code",
   "execution_count": 7,
   "metadata": {},
   "outputs": [
    {
     "name": "stdout",
     "output_type": "stream",
     "text": [
      "[(17.74061377407994, 21.861940659758183), (17.783178058317763, 21.904504943996006), (17.826730360719033, 21.948057246397276), (17.045417999043348, 21.16674488472159), (17.506274265623972, 21.627601151302215)]\n"
     ]
    }
   ],
   "source": [
    "#lista por comprension \n",
    "CI=[selecciones() for i in range (1000)]\n",
    "print(CI[:5])\n",
    "    "
   ]
  },
  {
   "cell_type": "code",
   "execution_count": 8,
   "metadata": {},
   "outputs": [
    {
     "data": {
      "text/plain": [
       "987"
      ]
     },
     "execution_count": 8,
     "metadata": {},
     "output_type": "execute_result"
    }
   ],
   "source": [
    "#EL VALOR VERDADERO DE LA MEDIA POBLACIONAL ES 20\n",
    "# deberia ser proximo a 990 ya que el intervalo de confianza es a 99% de confianza\n",
    "\n",
    "resultados=len([1 for x in CI if x[0]<20 and 20<x[1]])\n",
    "resultados\n"
   ]
  },
  {
   "cell_type": "code",
   "execution_count": 12,
   "metadata": {},
   "outputs": [
    {
     "name": "stdout",
     "output_type": "stream",
     "text": [
      "987\n",
      "       int_inf    int_sup  le_atine\n",
      "0    17.740614  21.861941         1\n",
      "1    17.783178  21.904505         1\n",
      "2    17.826730  21.948057         1\n",
      "3    17.045418  21.166745         1\n",
      "4    17.506274  21.627601         1\n",
      "..         ...        ...       ...\n",
      "995  18.222126  22.343453         1\n",
      "996  16.354957  20.476284         1\n",
      "997  18.431344  22.552671         1\n",
      "998  17.838379  21.959706         1\n",
      "999  17.686841  21.808168         1\n",
      "\n",
      "[1000 rows x 3 columns]\n"
     ]
    }
   ],
   "source": [
    "resultados=[1 if x[0]<20 and 20<x[1] else 0 for x in CI]\n",
    "# intervalos es un df de los limites inferior y superio que toma de CI\n",
    "intervalos=pd.DataFrame({\"int_inf\":[x[0] for x in CI],\"int_sup\":[x[1] for x in CI]})\n",
    "intervalos[\"le_atine\"]=resultados \n",
    "print(intervalos[\"le_atine\"].sum())\n",
    "print(intervalos )"
   ]
  },
  {
   "cell_type": "code",
   "execution_count": null,
   "metadata": {},
   "outputs": [],
   "source": []
  },
  {
   "cell_type": "code",
   "execution_count": null,
   "metadata": {},
   "outputs": [],
   "source": []
  },
  {
   "cell_type": "code",
   "execution_count": null,
   "metadata": {},
   "outputs": [],
   "source": []
  },
  {
   "cell_type": "markdown",
   "metadata": {},
   "source": [
    "## Intervalo de confianza para la media poblacional con varianza y media desconocida (<span style=\"color: red;\">población normal</span>)\n",
    "\n",
    "Supongamos que queremos medir el valor promedio de la característica $X$ de cierta población, donde $X$ es **una gaussiana con media $\\mu$ desconocida y varianza poblacional $\\sigma$ también desconocida.** Es decir, queremos hallar $\\mu$ sin conocer $\\sigma$. Este es el caso mas común en la práctica.\n",
    "\n",
    "Tomemos una muestra de tamaño $n$. Sean $X_1$, $X_2$,...,$X_n$ los valores de la característica $X$ en esa muestra. Un intervalo de confianza con significancia $\\alpha$ para la media $\\mu$, desconociendo la desviación poblacional $\\sigma$, es $$\\left(\\overline{X_n}-t_{n-1,1-\\frac{\\alpha}{2}}\\frac{S}{\\sqrt{n}},\\overline{X_n}+t_{n-1,1-\\frac{\\alpha}{2}}\\frac{S}{\\sqrt{n}}\\right),$$ donde $$S=\\sqrt{\\frac{(X_1-\\overline{X})^2+(X_2-\\overline{X})^2+...+(X_n-\\overline{X})^2}{n-1}}$$\n",
    "\n",
    "```python\n",
    "import numpy as np\n",
    "from scipy.stats import t\n",
    "\n",
    "# Parámetros\n",
    "media_muestral = 50  # media muestral\n",
    "s = 10               # desviación estándar muestral (desconocida)\n",
    "n = 30               # tamaño de la muestra\n",
    "alpha = 0.05         # nivel de significancia para el 95% de confianza\n",
    "\n",
    "# Cálculo del valor crítico t (con n-1 grados de libertad)\n",
    "t_critico = t.ppf(1 - alpha / 2, df=n - 1)\n",
    "\n",
    "# Cálculo del margen de error\n",
    "margen_error = t_critico * (s / np.sqrt(n))\n",
    "\n",
    "# Cálculo del intervalo de confianza\n",
    "IC_inferior = media_muestral - margen_error\n",
    "IC_superior = media_muestral + margen_error\n",
    "\n",
    "# Mostrar los resultados\n",
    "print(f\"Intervalo de confianza para la media: ({IC_inferior:.2f}, {IC_superior:.2f})\")\n",
    "```"
   ]
  },
  {
   "cell_type": "markdown",
   "metadata": {},
   "source": [
    "**Sustento teórico.**\n",
    "\n",
    "El sustento teorico del por qué el intervalo de confianza tiene la forma que se mostró en el caso de población gaussiana con desviación desconocida y media desconocida es el siguiente resultado que vimos en la sección de variables aleatorias gaussianas:\n",
    "\n",
    "Si $X_1,X_2,...,X_n$ son gaussianas independientes, todas con media $\\mu$ y desviación $\\sigma$, y $\\overline{X}=(X_1+X_2+...+X_n)/n$, entonces $$\\frac{\\overline{X}-\\mu}{S/\\sqrt{n}}\\sim t_{n-1}\\mbox{ ($t$ de Student con $n-1$ grados de libertad) }$$\n"
   ]
  },
  {
   "cell_type": "markdown",
   "metadata": {},
   "source": [
    "**Problema 2 (simulación).**\n",
    "\n",
    "De la tabla [tabla_poblacion_simulada.csv](https://github.com/scidatmath2020/Inferencia_Estadistica_2024/blob/main/data/tabla_poblacion_simulada.csv) del Problema 1, se desconoce la desviación poblacional de la columna *sd_desconocida*.\n",
    "\n",
    "Toma una muestra de tamaño 25 y calcula el intervalo de confianza al 95% de la media poblacional.\n",
    "\n"
   ]
  },
  {
   "cell_type": "code",
   "execution_count": 16,
   "metadata": {},
   "outputs": [],
   "source": [
    "from scipy.stats import t\n",
    "import numpy as np"
   ]
  },
  {
   "cell_type": "code",
   "execution_count": 14,
   "metadata": {},
   "outputs": [
    {
     "name": "stderr",
     "output_type": "stream",
     "text": [
      "<>:1: SyntaxWarning: invalid escape sequence '\\D'\n",
      "<>:1: SyntaxWarning: invalid escape sequence '\\D'\n",
      "C:\\Users\\VING0AK\\AppData\\Local\\Temp\\ipykernel_15980\\4183932447.py:1: SyntaxWarning: invalid escape sequence '\\D'\n"
     ]
    },
    {
     "data": {
      "text/html": [
       "<div>\n",
       "<style scoped>\n",
       "    .dataframe tbody tr th:only-of-type {\n",
       "        vertical-align: middle;\n",
       "    }\n",
       "\n",
       "    .dataframe tbody tr th {\n",
       "        vertical-align: top;\n",
       "    }\n",
       "\n",
       "    .dataframe thead th {\n",
       "        text-align: right;\n",
       "    }\n",
       "</style>\n",
       "<table border=\"1\" class=\"dataframe\">\n",
       "  <thead>\n",
       "    <tr style=\"text-align: right;\">\n",
       "      <th></th>\n",
       "      <th>Unnamed: 0</th>\n",
       "      <th>sd_4</th>\n",
       "      <th>sd_desconocido</th>\n",
       "    </tr>\n",
       "  </thead>\n",
       "  <tbody>\n",
       "    <tr>\n",
       "      <th>0</th>\n",
       "      <td>1</td>\n",
       "      <td>21.483702</td>\n",
       "      <td>32.176926</td>\n",
       "    </tr>\n",
       "    <tr>\n",
       "      <th>1</th>\n",
       "      <td>2</td>\n",
       "      <td>15.757847</td>\n",
       "      <td>30.108064</td>\n",
       "    </tr>\n",
       "    <tr>\n",
       "      <th>2</th>\n",
       "      <td>3</td>\n",
       "      <td>18.790874</td>\n",
       "      <td>30.896517</td>\n",
       "    </tr>\n",
       "    <tr>\n",
       "      <th>3</th>\n",
       "      <td>4</td>\n",
       "      <td>23.801582</td>\n",
       "      <td>15.849980</td>\n",
       "    </tr>\n",
       "    <tr>\n",
       "      <th>4</th>\n",
       "      <td>5</td>\n",
       "      <td>25.260813</td>\n",
       "      <td>38.318724</td>\n",
       "    </tr>\n",
       "  </tbody>\n",
       "</table>\n",
       "</div>"
      ],
      "text/plain": [
       "   Unnamed: 0       sd_4  sd_desconocido\n",
       "0           1  21.483702       32.176926\n",
       "1           2  15.757847       30.108064\n",
       "2           3  18.790874       30.896517\n",
       "3           4  23.801582       15.849980\n",
       "4           5  25.260813       38.318724"
      ]
     },
     "execution_count": 14,
     "metadata": {},
     "output_type": "execute_result"
    }
   ],
   "source": [
    "poblacion=pd.read_csv(\"C:\\\\Users\\\\VING0AK\\Desktop\\\\AnalisisDeDatos\\\\Estadistica\\\\tabla_poblacion_simulada.csv\")\n",
    "poblacion.head()"
   ]
  },
  {
   "cell_type": "code",
   "execution_count": 18,
   "metadata": {},
   "outputs": [
    {
     "name": "stdout",
     "output_type": "stream",
     "text": [
      "Intervalo de confianza para la media: (28.02, 33.41)\n"
     ]
    }
   ],
   "source": [
    "n=25\n",
    "muestra = poblacion.sample(n=n, random_state=2024) \n",
    "media_muestral=muestra[\"sd_desconocido\"].mean()\n",
    "\n",
    "#calcula la desviacion muestral si ddof=1 en caso contrario (ddof=0) saca la poblacional\n",
    "s=np.std(muestra[\"sd_desconocido\"],ddof=1)\n",
    "\n",
    "alpha = 0.05\n",
    "# Cálculo del valor crítico t (con n-1 grados de libertad)\n",
    "t_critico = t.ppf(1 - alpha / 2, df=n - 1)\n",
    "\n",
    "# Cálculo del margen de error\n",
    "margen_error = t_critico * (s / np.sqrt(n))\n",
    "\n",
    "# Cálculo del intervalo de confianza\n",
    "IC_inferior = media_muestral - margen_error\n",
    "IC_superior = media_muestral + margen_error\n",
    "\n",
    "# Mostrar los resultados\n",
    "print(f\"Intervalo de confianza para la media: ({IC_inferior:.2f}, {IC_superior:.2f})\")"
   ]
  },
  {
   "cell_type": "code",
   "execution_count": null,
   "metadata": {},
   "outputs": [],
   "source": []
  },
  {
   "cell_type": "code",
   "execution_count": null,
   "metadata": {},
   "outputs": [],
   "source": []
  },
  {
   "cell_type": "raw",
   "metadata": {},
   "source": [
    "##pruebas de bondad de ajuste"
   ]
  },
  {
   "cell_type": "markdown",
   "metadata": {},
   "source": [
    "## Intervalo de confianza para la media poblacional con varianza conocida o desconocida y <span style=\"color: red;\">población cualquiera</span> , con muestra grande ($n\\ge30$) o pequeña ($n<30$)\n",
    "\n",
    "Hasta este momento hemos hecho un supuesto muy fuerte en los dos casos anteriores: la característica $X$ de la población sigue una distribución gaussiana.\n",
    "\n",
    "El caso en que esto no sea necesariamente cierto se divide en dos: cuando tu muestra es grande ($n\\ge30$) o cuando es pequeña ($n<30$).\n",
    "\n",
    "Cuando $n$ es grande, el Teorema del Límite Central garantiza que los sustentos teóricos de los dos casos anteriores se cumplen aproximadamente, por lo cual los intervalos de confianza son los mismos que se utilizaron.\n",
    "\n",
    "En el caso en que $n$ es pequeño y la desviación es desconocida, siempre que la distribución tenga forma de \"montaña\", un buen intervalo de confianza es $$\\left(\\overline{X_n}-t_{n-1,1-\\frac{\\alpha}{2}}\\frac{S}{\\sqrt{n}},\\overline{X_n}+t_{n-1,1-\\frac{\\alpha}{2}}\\frac{S}{\\sqrt{n}}\\right),$$ donde $$S=\\sqrt{\\frac{(X_1-\\overline{X})^2+(X_2-\\overline{X})^2+...+(X_n-\\overline{X})^2}{n-1}}$$\n",
    "\n",
    "Notemos que es el mismo intervalo de confianza para el caso en que la población es gaussiana con desviación desconocida.\n",
    "\n",
    "```python\n",
    "import numpy as np\n",
    "from scipy.stats import t\n",
    "\n",
    "# Parámetros\n",
    "media_muestral = 50  # media muestral\n",
    "s = 10               # desviación estándar muestral (desconocida)\n",
    "n = 30               # tamaño de la muestra\n",
    "alpha = 0.05         # nivel de significancia para el 95% de confianza\n",
    "\n",
    "# Cálculo del valor crítico t (con n-1 grados de libertad)\n",
    "t_critico = t.ppf(1 - alpha / 2, df=n - 1)\n",
    "\n",
    "# Cálculo del margen de error\n",
    "margen_error = t_critico * (s / np.sqrt(n))\n",
    "\n",
    "# Cálculo del intervalo de confianza\n",
    "IC_inferior = media_muestral - margen_error\n",
    "IC_superior = media_muestral + margen_error\n",
    "\n",
    "# Mostrar los resultados\n",
    "print(f\"Intervalo de confianza para la media: ({IC_inferior:.2f}, {IC_superior:.2f})\")\n",
    "```"
   ]
  },
  {
   "cell_type": "markdown",
   "metadata": {},
   "source": [
    "## Ejemplos.\n",
    "\n",
    "1. Un científico interesado en vigilar contaminantes químicos en alimentos y, por lo tanto, la acumulación de contaminantes en la dieta humana, seleccionó una muestra aleatoria de 50 adultos hombres. Se encontró que el promedio de ingesta diaria de productos lácteos fue de 756gr por día, con una desviación estándar de 35gr por día. Use esta información muestral para construir un intervalo de confianza de 95% para la ingesta diaria media de productos lácteos para hombres.\n",
    "\n",
    "**Respuesta:** (746.30,765.70)\n",
    "\n",
    "\n"
   ]
  },
  {
   "cell_type": "code",
   "execution_count": 54,
   "metadata": {},
   "outputs": [
    {
     "name": "stdout",
     "output_type": "stream",
     "text": [
      "Intervalo de confianza para la media: (746.30, 765.70)\n"
     ]
    }
   ],
   "source": [
    "import numpy as np\n",
    "from scipy.stats import norm\n",
    "\n",
    "\n",
    "media_muestral = 756  # media muestral\n",
    "sigma = 35           # desviación estándar de la población\n",
    "n = 50               # tamaño de la muestra\n",
    "alpha = 0.05         # nivel de significancia para el 95% de confianza\n",
    "\n",
    "# Cálculo del valor crítico Z\n",
    "Z = norm.ppf(1 - alpha / 2)\n",
    "\n",
    "# Cálculo del margen de error\n",
    "margen_error = Z * (sigma / np.sqrt(n))\n",
    "\n",
    "# Cálculo del intervalo de confianza\n",
    "IC_inferior = media_muestral - margen_error\n",
    "IC_superior = media_muestral + margen_error\n",
    "\n",
    "# Mostrar los resultados\n",
    "print(f\"Intervalo de confianza para la media: ({IC_inferior:.2f}, {IC_superior:.2f})\")"
   ]
  },
  {
   "cell_type": "code",
   "execution_count": null,
   "metadata": {},
   "outputs": [],
   "source": []
  },
  {
   "cell_type": "markdown",
   "metadata": {},
   "source": [
    "\n",
    "2. La tabla [mtcars.csv](https://github.com/scidatmath2020/Inferencia_Estadistica_2024/blob/main/data/mtcars.csv) contiene datos sobre 32 modelos de automóviles estadounidenses  producidos durante 1973. Con esa información, calcula un intervalo de confianza al 95% de las millas por galón que son capaces de recorrer todos los automóviles estadounidenses de 1973.\n",
    "\n",
    "**Respuesta:** (17.91,22.26)\n",
    "\n"
   ]
  },
  {
   "cell_type": "code",
   "execution_count": 53,
   "metadata": {},
   "outputs": [],
   "source": [
    "#muestra pequeña sin que sea normal y muestra grande o pequeña normal sin conocer nada\n",
    "import pandas as pd \n",
    "import numpy as np\n",
    "from scipy.stats import t \n"
   ]
  },
  {
   "cell_type": "code",
   "execution_count": 22,
   "metadata": {},
   "outputs": [
    {
     "data": {
      "text/html": [
       "<div>\n",
       "<style scoped>\n",
       "    .dataframe tbody tr th:only-of-type {\n",
       "        vertical-align: middle;\n",
       "    }\n",
       "\n",
       "    .dataframe tbody tr th {\n",
       "        vertical-align: top;\n",
       "    }\n",
       "\n",
       "    .dataframe thead th {\n",
       "        text-align: right;\n",
       "    }\n",
       "</style>\n",
       "<table border=\"1\" class=\"dataframe\">\n",
       "  <thead>\n",
       "    <tr style=\"text-align: right;\">\n",
       "      <th></th>\n",
       "      <th>model</th>\n",
       "      <th>mpg</th>\n",
       "      <th>cyl</th>\n",
       "      <th>disp</th>\n",
       "      <th>hp</th>\n",
       "      <th>drat</th>\n",
       "      <th>wt</th>\n",
       "      <th>qsec</th>\n",
       "      <th>vs</th>\n",
       "      <th>am</th>\n",
       "      <th>gear</th>\n",
       "      <th>carb</th>\n",
       "    </tr>\n",
       "  </thead>\n",
       "  <tbody>\n",
       "    <tr>\n",
       "      <th>0</th>\n",
       "      <td>Mazda RX4</td>\n",
       "      <td>21.0</td>\n",
       "      <td>6</td>\n",
       "      <td>160.0</td>\n",
       "      <td>110</td>\n",
       "      <td>3.90</td>\n",
       "      <td>2.620</td>\n",
       "      <td>16.46</td>\n",
       "      <td>0</td>\n",
       "      <td>1</td>\n",
       "      <td>4</td>\n",
       "      <td>4</td>\n",
       "    </tr>\n",
       "    <tr>\n",
       "      <th>1</th>\n",
       "      <td>Mazda RX4 Wag</td>\n",
       "      <td>21.0</td>\n",
       "      <td>6</td>\n",
       "      <td>160.0</td>\n",
       "      <td>110</td>\n",
       "      <td>3.90</td>\n",
       "      <td>2.875</td>\n",
       "      <td>17.02</td>\n",
       "      <td>0</td>\n",
       "      <td>1</td>\n",
       "      <td>4</td>\n",
       "      <td>4</td>\n",
       "    </tr>\n",
       "    <tr>\n",
       "      <th>2</th>\n",
       "      <td>Datsun 710</td>\n",
       "      <td>22.8</td>\n",
       "      <td>4</td>\n",
       "      <td>108.0</td>\n",
       "      <td>93</td>\n",
       "      <td>3.85</td>\n",
       "      <td>2.320</td>\n",
       "      <td>18.61</td>\n",
       "      <td>1</td>\n",
       "      <td>1</td>\n",
       "      <td>4</td>\n",
       "      <td>1</td>\n",
       "    </tr>\n",
       "    <tr>\n",
       "      <th>3</th>\n",
       "      <td>Hornet 4 Drive</td>\n",
       "      <td>21.4</td>\n",
       "      <td>6</td>\n",
       "      <td>258.0</td>\n",
       "      <td>110</td>\n",
       "      <td>3.08</td>\n",
       "      <td>3.215</td>\n",
       "      <td>19.44</td>\n",
       "      <td>1</td>\n",
       "      <td>0</td>\n",
       "      <td>3</td>\n",
       "      <td>1</td>\n",
       "    </tr>\n",
       "    <tr>\n",
       "      <th>4</th>\n",
       "      <td>Hornet Sportabout</td>\n",
       "      <td>18.7</td>\n",
       "      <td>8</td>\n",
       "      <td>360.0</td>\n",
       "      <td>175</td>\n",
       "      <td>3.15</td>\n",
       "      <td>3.440</td>\n",
       "      <td>17.02</td>\n",
       "      <td>0</td>\n",
       "      <td>0</td>\n",
       "      <td>3</td>\n",
       "      <td>2</td>\n",
       "    </tr>\n",
       "  </tbody>\n",
       "</table>\n",
       "</div>"
      ],
      "text/plain": [
       "               model   mpg  cyl   disp   hp  drat     wt   qsec  vs  am  gear  \\\n",
       "0          Mazda RX4  21.0    6  160.0  110  3.90  2.620  16.46   0   1     4   \n",
       "1      Mazda RX4 Wag  21.0    6  160.0  110  3.90  2.875  17.02   0   1     4   \n",
       "2         Datsun 710  22.8    4  108.0   93  3.85  2.320  18.61   1   1     4   \n",
       "3     Hornet 4 Drive  21.4    6  258.0  110  3.08  3.215  19.44   1   0     3   \n",
       "4  Hornet Sportabout  18.7    8  360.0  175  3.15  3.440  17.02   0   0     3   \n",
       "\n",
       "   carb  \n",
       "0     4  \n",
       "1     4  \n",
       "2     1  \n",
       "3     1  \n",
       "4     2  "
      ]
     },
     "execution_count": 22,
     "metadata": {},
     "output_type": "execute_result"
    }
   ],
   "source": [
    "#el truco es poner la r al principio (raw string)\n",
    "tabla1=pd.read_csv(r\"C:\\Users\\VING0AK\\Desktop\\AnalisisDeDatos\\Estadistica\\mtcars.csv\")\n",
    "tabla1.head()"
   ]
  },
  {
   "cell_type": "code",
   "execution_count": 50,
   "metadata": {},
   "outputs": [],
   "source": [
    "alpha=0.05\n",
    "media_muestral=tabla1.mpg.mean()\n",
    "#s =np.std(tabla1[\"mpg\"],ddof=1)\n",
    "s=np.sqrt(np.var(tabla1.mpg,ddof=1))\n",
    "n=tabla1.shape[0]\n"
   ]
  },
  {
   "cell_type": "code",
   "execution_count": 51,
   "metadata": {},
   "outputs": [
    {
     "name": "stdout",
     "output_type": "stream",
     "text": [
      "Intervalo de confianza para la media: (17.92, 22.26)\n"
     ]
    }
   ],
   "source": [
    "# Cálculo del valor crítico t (con n-1 grados de libertad)\n",
    "t_critico = t.ppf(1 - alpha / 2, df=n - 1)\n",
    "\n",
    "# Cálculo del margen de error\n",
    "margen_error = t_critico * (s / np.sqrt(n))\n",
    "\n",
    "# Cálculo del intervalo de confianza\n",
    "IC_inferior = media_muestral - margen_error\n",
    "IC_superior = media_muestral + margen_error\n",
    "\n",
    "# Mostrar los resultados\n",
    "print(f\"Intervalo de confianza para la media: ({IC_inferior:.2f}, {IC_superior:.2f})\")"
   ]
  },
  {
   "cell_type": "code",
   "execution_count": null,
   "metadata": {},
   "outputs": [],
   "source": []
  },
  {
   "cell_type": "markdown",
   "metadata": {},
   "source": [
    "3. En un experimento de electrólisis, un grupo de 17 estudiantes midió la cantidad de cobre precipitado de una solución saturada de sulfato de cobre en un periodo de 45 minutos. Los 17 estudiantes obtuvieron los siguientes datos: 0.1357482, 0.1548600, 0.1941724, 0.1779920, 0.1591776, 0.1399671, 0.1390927, 0.1258081, 0.1388490, 0.1137399, 0.1154759, 0.1341601, 0.1856994, 0.1603131, 0.1227789, 0.1259683, 0.1065922. \n",
    "\n",
    "Encuentre un intervalo de confianza de 90% para la cantidad media de cobre precipitado de la\n",
    "solución en un periodo de 45 minutos.\n",
    "\n",
    "**Respuesta:** (0.13,0.15)"
   ]
  },
  {
   "cell_type": "code",
   "execution_count": 55,
   "metadata": {},
   "outputs": [],
   "source": [
    "#muestra pequeña sin que sea normal y muestra grande o pequeña normal sin conocer nada\n",
    "import pandas as pd \n",
    "import numpy as np\n",
    "from scipy.stats import t \n"
   ]
  },
  {
   "cell_type": "code",
   "execution_count": 59,
   "metadata": {},
   "outputs": [
    {
     "data": {
      "text/html": [
       "<div>\n",
       "<style scoped>\n",
       "    .dataframe tbody tr th:only-of-type {\n",
       "        vertical-align: middle;\n",
       "    }\n",
       "\n",
       "    .dataframe tbody tr th {\n",
       "        vertical-align: top;\n",
       "    }\n",
       "\n",
       "    .dataframe thead th {\n",
       "        text-align: right;\n",
       "    }\n",
       "</style>\n",
       "<table border=\"1\" class=\"dataframe\">\n",
       "  <thead>\n",
       "    <tr style=\"text-align: right;\">\n",
       "      <th></th>\n",
       "      <th>valor</th>\n",
       "    </tr>\n",
       "  </thead>\n",
       "  <tbody>\n",
       "    <tr>\n",
       "      <th>0</th>\n",
       "      <td>0.135748</td>\n",
       "    </tr>\n",
       "    <tr>\n",
       "      <th>1</th>\n",
       "      <td>0.154860</td>\n",
       "    </tr>\n",
       "    <tr>\n",
       "      <th>2</th>\n",
       "      <td>0.194172</td>\n",
       "    </tr>\n",
       "    <tr>\n",
       "      <th>3</th>\n",
       "      <td>0.177992</td>\n",
       "    </tr>\n",
       "    <tr>\n",
       "      <th>4</th>\n",
       "      <td>0.159178</td>\n",
       "    </tr>\n",
       "  </tbody>\n",
       "</table>\n",
       "</div>"
      ],
      "text/plain": [
       "      valor\n",
       "0  0.135748\n",
       "1  0.154860\n",
       "2  0.194172\n",
       "3  0.177992\n",
       "4  0.159178"
      ]
     },
     "execution_count": 59,
     "metadata": {},
     "output_type": "execute_result"
    }
   ],
   "source": [
    "#el truco es poner la r al principio (raw string)\n",
    "estudiantes =pd.read_csv(r\"C:\\Users\\VING0AK\\Desktop\\AnalisisDeDatos\\Estadistica\\estudiantes.csv\")\n",
    "estudiantes.head()"
   ]
  },
  {
   "cell_type": "code",
   "execution_count": 60,
   "metadata": {},
   "outputs": [],
   "source": [
    "alpha=0.1\n",
    "media_muestral=estudiantes.valor.mean()\n",
    "#s =np.std(tabla1[\"mpg\"],ddof=1)\n",
    "s=np.sqrt(np.var(estudiantes.valor,ddof=1))\n",
    "n=tabla1.shape[0]"
   ]
  },
  {
   "cell_type": "code",
   "execution_count": 62,
   "metadata": {},
   "outputs": [
    {
     "name": "stdout",
     "output_type": "stream",
     "text": [
      "Intervalo de confianza para la media: (0.14, 0.15)\n"
     ]
    }
   ],
   "source": [
    "t_critico = t.ppf(1 - alpha / 2, df=n - 1)\n",
    "\n",
    "# Cálculo del margen de error\n",
    "margen_error = t_critico * (s / np.sqrt(n))\n",
    "\n",
    "# Cálculo del intervalo de confianza\n",
    "IC_inferior = media_muestral - margen_error\n",
    "IC_superior = media_muestral + margen_error\n",
    "\n",
    "# Mostrar los resultados\n",
    "print(f\"Intervalo de confianza para la media: ({IC_inferior:.2f}, {IC_superior:.2f})\")"
   ]
  },
  {
   "cell_type": "code",
   "execution_count": null,
   "metadata": {},
   "outputs": [],
   "source": []
  },
  {
   "cell_type": "markdown",
   "metadata": {},
   "source": [
    "## Intervalo de confianza para una proporción.\n",
    "\n",
    "Muchos experimentos de investigación o estudios muestrales tienen como objetivo la estimación de la proporción de personas u objetos de un grupo grande, que posean cierta característica. Veamos algunos ejemplos:\n",
    "\n",
    "• La proporción de ventas que se puede esperar en un gran número de contactos de\n",
    "clientes\n",
    "\n",
    "• La proporción de semillas que germinan\n",
    "\n",
    "• La proporción de votantes \"probables\" que planean votar para un candidato político particular\n",
    "\n",
    "En este sentido, existen muchas maneras de armar intervalos de confianza para la proporción dependiendo del tamaño de la muestra. Sin embargo, para tamaños grandes, estos métodos son aproximaciones (tal como sucede en el caso de medias para muestras grandes no gaussianas).\n",
    "\n",
    "No obstante, con el uso de computadoras hoy en día puede aplicarse el mismo método a pequeñas o grandes muestras, con la ventaja de que no es un método aproximativo sino **exacto:**\n",
    "\n",
    "**Intervalo de confianza para la proporción por el método exacto.**\n",
    "\n",
    "Supongamos que tienes una característica $X$ de una población que únicamente toma dos valores: 1 si la característica está presente en el individuo y 0 si no lo está (es decir, $X$ es v.a. Bernoulli y queremos hallar el parámetro $p$). Toma una muestra de tamaño $n$ y llama $x$ al total de individuos que presentan la característica $X$ en la muestra.\n",
    "\n",
    "Un intervalo de confianza $(p_0,p_1)$ con confianza $(1-\\alpha)*100$ por ciento para la proporción que presenta la característica $X$ en toda la población se obtiene encontrando el $p_0$ mas grande y el $p_1$ mas pequeño tales que $$\\max\\left\\{\\sum_{k=x}^n\\binom{n}{k}p_0^k(1-p_0)^{n-k},\\sum_{k=0}^x\\binom{n}{k}p_1^k(1-p_1)^{n-k}\\right\\}\\le\\frac{\\alpha}{2}.$$\n"
   ]
  },
  {
   "cell_type": "markdown",
   "metadata": {},
   "source": [
    "Observa que en el problema anterior la muestra afecta al intervalo de confianza únicamente a través de su tamaño $n$ y del número de éxitos obtenidos $x$, y no directamente de la proporción $x/n$.\n",
    "\n",
    "Como te puedes imaginar, hacer los cálculos anteriores es bastante tedioso. \n",
    "\n",
    "## Ejemplo\n",
    "\n",
    "- Una muestra de tamaño $n = 100$ individuos.\n",
    "- En esta muestra, $x = 30$ individuos tienen la característica $X$ (es decir, $x = 30$ éxitos).\n",
    "- Queremos calcular el intervalo de confianza al 95% para la proporción de individuos que tienen la característica $X$ en la población.\n",
    "\n",
    "Esto significa que el nivel de significancia $\\alpha$ es 0.05 (ya que $1 - \\alpha = 0.95$).\n",
    "\n",
    "- Estimamos la proporción muestral:\n",
    "\n",
    "$$\\hat{p} = \\frac{x}{n} = \\frac{30}{100} = 0.3$$\n",
    "\n",
    "- Queremos encontrar los valores $p_0$ y $p_1$ tales que:\n",
    "\n",
    "$$\\sum_{k=x}^{n} \\binom{n}{k} p_0^k (1 - p_0)^{n-k} \\leq \\frac{\\alpha}{2}$$\n",
    "\n",
    "y\n",
    "\n",
    "$$\\sum_{k=0}^{x} \\binom{n}{k} p_1^k (1 - p_1)^{n-k} \\leq \\frac{\\alpha}{2}$$\n",
    "\n",
    "Donde $p_0$ y $p_1$ son las estimaciones de la proporción que corresponden a los límites inferior y superior del intervalo de confianza.\n",
    "\n",
    "- Para un intervalo de confianza del 95%, buscamos los valores $p_0$ y $p_1$ tal que la suma de probabilidades binomiales de cada lado del intervalo sea menor o igual a $\\alpha/2$ (que en nuestro caso es 0.025).\n",
    "\n",
    "- Para calcular los límites exactos del intervalo, necesitamos usar la **distribución binomial acumulada inversa**, que nos dice cuál es el valor de $p_0$ y $p_1$ que satisface la condición de probabilidad.\n",
    "\n",
    "\n",
    "\n",
    "## Cálculo en Python\n",
    "\n",
    "Usando Python, podemos hacer este cálculo con la librería `scipy` y su función `binom.ppf`, que nos permite calcular los percentiles (cuantiles) de una distribución binomial.\n",
    "\n",
    "### Código en Python:\n",
    "\n",
    "```python\n",
    "from scipy.stats import binom\n",
    "\n",
    "# Parámetros\n",
    "n = 100  # Tamaño de la muestra\n",
    "x = 30  # Número de éxitos\n",
    "alpha = 0.05  # Nivel de significancia para el intervalo de confianza del 95%\n",
    "\n",
    "# Cálculo del intervalo de confianza exacto utilizando la distribución binomial inversa\n",
    "p0_lower = binom.ppf(alpha / 2, n, x / n) / n\n",
    "p1_upper = binom.ppf(1 - alpha / 2, n, x / n) / n\n",
    "\n",
    "# Mostrar los límites del intervalo\n",
    "print(f\"Intervalo de confianza exacto: ({p0_lower:.4f}, {p1_upper:.4f})\")\n"
   ]
  },
  {
   "cell_type": "markdown",
   "metadata": {},
   "source": [
    "**Ejercicios.**\n",
    "\n",
    "1. Una muestra aleatoria de 985 “probables” electores, o sea los que probablemente voten en la próxima elección, fueron encuestados durante un maratón telefónico realizado por cierto Partido. De ellos, 592 indicaron que tenían la intención de votar por ese partido. Construya un intervalo de confianza de 90% para la proporción de electores probables de la población que tienen la intención de votar por el candidato. Con base en esta información, ¿se puede concluir que el candidato ganará la elección?\n",
    "\n",
    "**Respuesta.** (0.57,0.62)\n",
    "\n",
    "2. Basados en la tabla [envipe_2022.csv](https://github.com/scidatmath2020/Inferencia_Estadistica_2024/blob/main/data/envipe_2022.csv), hallar los intervalos al 90%, 95% y 99% de confianza de la proporcición de víctimas de delito en México durante 2021.\n"
   ]
  }
 ],
 "metadata": {
  "kernelspec": {
   "display_name": "Python 3 (ipykernel)",
   "language": "python",
   "name": "python3"
  },
  "language_info": {
   "codemirror_mode": {
    "name": "ipython",
    "version": 3
   },
   "file_extension": ".py",
   "mimetype": "text/x-python",
   "name": "python",
   "nbconvert_exporter": "python",
   "pygments_lexer": "ipython3",
   "version": "3.12.4"
  }
 },
 "nbformat": 4,
 "nbformat_minor": 4
}
